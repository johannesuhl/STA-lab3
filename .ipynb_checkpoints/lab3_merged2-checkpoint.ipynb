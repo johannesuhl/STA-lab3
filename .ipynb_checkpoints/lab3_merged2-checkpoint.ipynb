{
 "cells": [
  {
   "cell_type": "markdown",
   "metadata": {},
   "source": [
    "# Space-time Analytics Lab 3\n",
    "## Becky Davies, Gabi Murillo, Adam Mahood, Barry Price, Johannes Uhl\n",
    "## November 2016\n",
    "### Analysis of Brown Bear trajectories in Slovenia, 1993-1999\n",
    "\n",
    "#### Contents:\n",
    "A. Introduction\n",
    "\n",
    "- Maybe Barry can insert a paragraph here on bears in slovenia in general... B\n",
    "\n",
    "B. Visualisation of the data using 2D maps\n",
    "\n",
    "- Measurements per bear J\n",
    "- Measurements per year J\n",
    "\n",
    "C. Analysis of seasonal effects on movement speed\n",
    "\n",
    "- Bear speed map J\n",
    "- Gabi's results G\n",
    "\n",
    "D. Home range and interaction analysis\n",
    "\n",
    "- Kernel density maps for each bear, for each year J\n",
    "- Examining interaction using wildlifeDI package A\n",
    "- Examining interaction using space-time cubes B\n",
    "\n",
    "E. Concluding remarks\n",
    "- all?\n",
    "\n",
    "Data Source: movebank.org\n",
    "\n",
    "\n",
    "\n"
   ]
  },
  {
   "cell_type": "code",
   "execution_count": 2,
   "metadata": {
    "collapsed": false
   },
   "outputs": [
    {
     "name": "stdout",
     "output_type": "stream",
     "text": [
      "Populating the interactive namespace from numpy and matplotlib\n"
     ]
    }
   ],
   "source": [
    "#loading libraries:\n",
    "\n",
    "import pandas as pd\n",
    "import json\n",
    "from IPython.display import Javascript\n",
    "from IPython.display import HTML\n",
    "import numpy as np\n",
    "import seaborn as sns; sns.set(color_codes=True)\n",
    "import matplotlib as mpl\n",
    "import matplotlib.pyplot as plt\n",
    "import matplotlib.cm as cm\n",
    "from matplotlib import animation\n",
    "import random\n",
    "%config InlineBackend.figure_format = 'svg'\n",
    "from matplotlib.pylab import rcParams\n",
    "rcParams['figure.figsize'] = 16, 9\n",
    "%matplotlib inline\n",
    "%pylab inline\n",
    "\n",
    "import plotly.plotly as py\n",
    "import plotly.graph_objs as go\n",
    "py.sign_in('johannesuhl', '1xhtdlbk6o')"
   ]
  },
  {
   "cell_type": "code",
   "execution_count": 8,
   "metadata": {
    "collapsed": true
   },
   "outputs": [],
   "source": [
    "#read the data\n",
    "csvfile=r'./Data/Brown bear Slovenia 1993-1999UTM.csv'\n",
    "df = pd.read_csv(csvfile) \n",
    "#make sure that you adjust your code to the pandas dataframe object df, we only want to read the data once.\n"
   ]
  },
  {
   "cell_type": "markdown",
   "metadata": {},
   "source": [
    "### A. Introduction"
   ]
  },
  {
   "cell_type": "code",
   "execution_count": null,
   "metadata": {
    "collapsed": true
   },
   "outputs": [],
   "source": []
  },
  {
   "cell_type": "markdown",
   "metadata": {},
   "source": [
    "### B. Visualisation of the data using 2D maps"
   ]
  },
  {
   "cell_type": "code",
   "execution_count": null,
   "metadata": {
    "collapsed": true
   },
   "outputs": [],
   "source": []
  },
  {
   "cell_type": "markdown",
   "metadata": {},
   "source": [
    "### C. Analysis of seasonal effects on movement speed"
   ]
  },
  {
   "cell_type": "code",
   "execution_count": null,
   "metadata": {
    "collapsed": true
   },
   "outputs": [],
   "source": []
  },
  {
   "cell_type": "markdown",
   "metadata": {},
   "source": [
    "### D. Home range and interaction analysis\n",
    "\n",
    "The interaction analysis is done in R using wildlifeDI package.\n",
    "The notebook requires a separate R kernel and can be accessed here:\n",
    "\n",
    "https://github.com/johannesuhl/STA-lab3/blob/master/Wildlife%20Trajectories%20in%20R.ipynb\n",
    "\n"
   ]
  },
  {
   "cell_type": "markdown",
   "metadata": {},
   "source": [
    "#### Visualizing Space-Time Cube for paths of all brown bears in study using Plotly\n",
    "\n",
    "TO DO (Becky):\n",
    "- Label paths w/ bear names\n",
    "- Add write up for plotly viz"
   ]
  },
  {
   "cell_type": "code",
   "execution_count": null,
   "metadata": {
    "collapsed": true
   },
   "outputs": [],
   "source": [
    "#read CSV\n",
    "csvfile=r'STA-Lab-2/Data/brownBears.csv'\n",
    "df = pd.read_csv(csvfile, low_memory=False)\n",
    "\n",
    "def brownian_motion(T = 1, N = 100, mu = 0.1, sigma = 0.01, S0 = 20):\n",
    "    dt = float(T)/N\n",
    "    t = np.linspace(0, T, N)\n",
    "    W = np.random.standard_normal(size = N)\n",
    "    W = np.cumsum(W)*np.sqrt(dt) # standard brownian motion\n",
    "    X = (mu-0.5*sigma**2)*t + sigma*W\n",
    "    S = S0*np.exp(X) # geometric brownian motion\n",
    "    return S"
   ]
  },
  {
   "cell_type": "code",
   "execution_count": null,
   "metadata": {
    "collapsed": true
   },
   "outputs": [],
   "source": [
    "data = []\n",
    "for tag in set(df['tag-local-identifier']):\n",
    "    bear = df[df['tag-local-identifier'] == tag]\n",
    "\n",
    "    y = pd.Series(bear['utm-easting'])\n",
    "    x = pd.Series(bear['utm-northing'])\n",
    "    dates = pd.to_datetime(bear['timestamp'])\n",
    "\n",
    "    trace = go.Scatter3d(\n",
    "        x=x, y=y, z=dates,\n",
    "        marker=dict(\n",
    "            size=4,\n",
    "            color=\"#%06x\" % random.randint(0, 0xFFFFFF),\n",
    "            colorscale='Viridis',\n",
    "        ),\n",
    "        line=dict(\n",
    "            color = '#444ddd',\n",
    "            width=1\n",
    "        )\n",
    "    )\n",
    "\n",
    "    data.append(trace)\n",
    "    \n",
    "layout = dict(\n",
    "    width=800,\n",
    "    height=700,\n",
    "    autosize=False,\n",
    "    title='Bears movement Slovenia',\n",
    "    scene=dict(\n",
    "        xaxis=dict(\n",
    "            gridcolor='rgb(255, 255, 255)',\n",
    "            zerolinecolor='rgb(255, 255, 255)',\n",
    "            showbackground=True,\n",
    "            backgroundcolor='rgb(230, 230,230)'\n",
    "        ),\n",
    "        yaxis=dict(\n",
    "            gridcolor='rgb(255, 255, 255)',\n",
    "            zerolinecolor='rgb(255, 255, 255)',\n",
    "            showbackground=True,\n",
    "            backgroundcolor='rgb(230, 230,230)'\n",
    "        ),\n",
    "        zaxis=dict(\n",
    "            gridcolor='rgb(255, 255, 255)',\n",
    "            zerolinecolor='rgb(255, 255, 255)',\n",
    "            showbackground=True,\n",
    "            backgroundcolor='rgb(230, 230,230)'\n",
    "        ),\n",
    "        camera=dict(\n",
    "            up=dict(\n",
    "                x=0,\n",
    "                y=0,\n",
    "                z=1\n",
    "            ),\n",
    "            eye=dict(\n",
    "                x=-1.7428,\n",
    "                y=1.0707,\n",
    "                z=0.7100,\n",
    "            )\n",
    "        ),\n",
    "        aspectratio = dict( x=1, y=1, z=0.7 ),\n",
    "        aspectmode = 'manual'\n",
    "    ),\n",
    ")\n",
    "fig = dict(data=data, layout=layout)\n",
    "py.iplot(fig, filename='bears_slovenia_test', height=1200, validate=False)"
   ]
  },
  {
   "cell_type": "markdown",
   "metadata": {},
   "source": [
    "#### Examining spatial-temporal interaction of bears between each other\n",
    "\n",
    "TO DO (Becky):\n",
    "- finish looping through locations to check for nearness\n",
    "- visualize nearby points in space-time\n",
    "- write up for interaction test\n"
   ]
  },
  {
   "cell_type": "code",
   "execution_count": null,
   "metadata": {
    "collapsed": true
   },
   "outputs": [],
   "source": [
    "def find_interval(x):\n",
    "    start = np.datetime64(x) + np.timedelta64(-12, 'h')\n",
    "    end = np.datetime64(x) + np.timedelta64(12, 'h')\n",
    "    return start, end\n",
    "def check_interval(x, start, end):\n",
    "    x = np.datetime64(x)\n",
    "    return start< x < end"
   ]
  },
  {
   "cell_type": "code",
   "execution_count": null,
   "metadata": {
    "collapsed": true
   },
   "outputs": [],
   "source": [
    "# for each bear in data set\n",
    "for bear in set(df['tag-local-identifier']):\n",
    "    focal_bear = df[df['tag-local-identifier'] == bear]\n",
    "    print bear\n",
    "    # isolate points for single bear\n",
    "    focal_bear = df[df['tag-local-identifier'] == bear]\n",
    "    # from timestamps, find time interval to examine interaction\n",
    "    focal_bear['interval'] = focal_bear.timestamp.apply(find_interval)\n",
    "    #search all other data timestamps for presence in interval\n",
    "    other_bears = df[df['tag-local-identifier'] != bear] \n",
    "    r = other_bears.timestamp.apply(check_interval, args=(focal_bear.interval.values[0][0],focal_bear.interval.values[0][1]))\n",
    "    # for matching timestamps at point, search all locations for present within radius\n",
    "    \n",
    "    if len(r[r==True]) > 0:\n",
    "        print('MATCH')\n",
    "    else:\n",
    "        print('no matches')"
   ]
  },
  {
   "cell_type": "markdown",
   "metadata": {},
   "source": [
    "### E. Concluding remarks"
   ]
  }
 ],
 "metadata": {
  "anaconda-cloud": {},
  "kernelspec": {
   "display_name": "Python 2",
   "language": "python",
   "name": "python2"
  },
  "language_info": {
   "codemirror_mode": {
    "name": "ipython",
    "version": 2
   },
   "file_extension": ".py",
   "mimetype": "text/x-python",
   "name": "python",
   "nbconvert_exporter": "python",
   "pygments_lexer": "ipython2",
   "version": "2.7.10"
  }
 },
 "nbformat": 4,
 "nbformat_minor": 0
}
