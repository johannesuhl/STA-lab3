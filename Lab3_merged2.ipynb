{
 "cells": [
  {
   "cell_type": "markdown",
   "metadata": {},
   "source": [
    "# Space-time Analytics Lab 3\n",
    "## Becky Davies, Gabi Murillo, Adam Mahood, Barry Price, Johannes Uhl\n",
    "## November 2016\n",
    "### Analysis of Brown Bear trajectories in Slovenia, 1993-1999\n",
    "\n",
    "#### Contents:\n",
    "A. Introduction\n",
    "\n",
    "- Maybe Barry can insert a paragraph here on bears in slovenia in general... B\n",
    "\n",
    "B. Visualisation of the data using 2D maps\n",
    "\n",
    "- Measurements per bear J\n",
    "- Measurements per year J\n",
    "\n",
    "C. Analysis of seasonal effects on movement speed\n",
    "\n",
    "- Bear speed map J\n",
    "- Gabi's results G\n",
    "\n",
    "D. Home range and interaction analysis\n",
    "\n",
    "- Kernel density maps for each bear, for each year J\n",
    "- Examining interaction using wildlifeDI package A\n",
    "- Examining interaction using space-time cubes B\n",
    "\n",
    "E. Concluding remarks\n",
    "- all?\n",
    "\n",
    "Data Source: movebank.org\n",
    "\n",
    "\n",
    "\n"
   ]
  },
  {
   "cell_type": "code",
   "execution_count": 1,
   "metadata": {
    "collapsed": false
   },
   "outputs": [
    {
     "name": "stdout",
     "output_type": "stream",
     "text": [
      "Populating the interactive namespace from numpy and matplotlib\n"
     ]
    },
    {
     "name": "stderr",
     "output_type": "stream",
     "text": [
      "WARNING: pylab import has clobbered these variables: ['random']\n",
      "`%matplotlib` prevents importing * from pylab and numpy\n"
     ]
    }
   ],
   "source": [
    "#loading libraries:\n",
    "\n",
    "import pandas as pd\n",
    "import json\n",
    "from IPython.display import Javascript\n",
    "from IPython.display import HTML\n",
    "import numpy as np\n",
    "import seaborn as sns; sns.set(color_codes=True)\n",
    "import matplotlib as mpl\n",
    "import matplotlib.pyplot as plt\n",
    "import matplotlib.cm as cm\n",
    "from matplotlib import animation\n",
    "import random\n",
    "import scipy.spatial.distance\n",
    "import math\n",
    "import shapely.geometry as sg\n",
    "import geopandas as gp\n",
    "%config InlineBackend.figure_format = 'svg'\n",
    "from matplotlib.pylab import rcParams\n",
    "rcParams['figure.figsize'] = 16, 9\n",
    "%matplotlib inline\n",
    "%pylab inline\n",
    "\n",
    "import plotly.plotly as py\n",
    "import plotly.graph_objs as go\n",
    "py.sign_in('johannesuhl', '1xhtdlbk6o')"
   ]
  },
  {
   "cell_type": "code",
   "execution_count": 2,
   "metadata": {
    "collapsed": true
   },
   "outputs": [],
   "source": [
    "#read the data\n",
    "csvfile=r'./Data/Brown bear Slovenia 1993-1999UTM.csv'\n",
    "df = pd.read_csv(csvfile) \n",
    "#make sure that you adjust your code to the pandas dataframe object df, we only want to read the data once.\n"
   ]
  },
  {
   "cell_type": "markdown",
   "metadata": {},
   "source": [
    "### A. Introduction"
   ]
  },
  {
   "cell_type": "code",
   "execution_count": null,
   "metadata": {
    "collapsed": true
   },
   "outputs": [],
   "source": []
  },
  {
   "cell_type": "markdown",
   "metadata": {},
   "source": [
    "### B. Visualisation of the data using 2D maps"
   ]
  },
  {
   "cell_type": "code",
   "execution_count": null,
   "metadata": {
    "collapsed": true
   },
   "outputs": [],
   "source": []
  },
  {
   "cell_type": "markdown",
   "metadata": {},
   "source": [
    "### C. Analysis of seasonal effects on movement speed"
   ]
  },
  {
   "cell_type": "code",
   "execution_count": null,
   "metadata": {
    "collapsed": true
   },
   "outputs": [],
   "source": []
  },
  {
   "cell_type": "markdown",
   "metadata": {},
   "source": [
    "### D. Home range and interaction analysis\n",
    "\n",
    "The interaction analysis is done in R using wildlifeDI package.\n",
    "The notebook requires a separate R kernel and can be accessed here:\n",
    "\n",
    "https://github.com/johannesuhl/STA-lab3/blob/master/Wildlife%20Trajectories%20in%20R.ipynb\n",
    "\n"
   ]
  },
  {
   "cell_type": "markdown",
   "metadata": {},
   "source": [
    "#### Visualizing Space-Time Cube for paths of all brown bears in study using Plotly\n",
    "\n",
    "Using the Plotly visualization library we visualized the space-time paths of all bears in the study. The cube reveals that many of the bears, such as Srecko, were recorded over relatively short time intervals. Almost none span the entire study period. Furthermore, the cube conveys the concentration of bears in a particular area throughout time, with only a few bears wandering afield. The dispersion could reflect a concentration of bears in a particular study area or home range, or a concentration of the observers who measured the presence of the bears across time."
   ]
  },
  {
   "cell_type": "code",
   "execution_count": 3,
   "metadata": {
    "collapsed": false
   },
   "outputs": [],
   "source": [
    "def brownian_motion(T = 1, N = 100, mu = 0.1, sigma = 0.01, S0 = 20):\n",
    "    dt = float(T)/N\n",
    "    t = np.linspace(0, T, N)\n",
    "    W = np.random.standard_normal(size = N)\n",
    "    W = np.cumsum(W)*np.sqrt(dt) # standard brownian motion\n",
    "    X = (mu-0.5*sigma**2)*t + sigma*W\n",
    "    S = S0*np.exp(X) # geometric brownian motion\n",
    "    return S"
   ]
  },
  {
   "cell_type": "code",
   "execution_count": 4,
   "metadata": {
    "collapsed": false
   },
   "outputs": [
    {
     "data": {
      "text/html": [
       "<iframe id=\"igraph\" scrolling=\"no\" style=\"border:none;\" seamless=\"seamless\" src=\"https://plot.ly/~johannesuhl/2.embed\" height=\"700px\" width=\"800px\"></iframe>"
      ],
      "text/plain": [
       "<plotly.tools.PlotlyDisplay object>"
      ]
     },
     "execution_count": 4,
     "metadata": {},
     "output_type": "execute_result"
    }
   ],
   "source": [
    "data = []\n",
    "for tag in set(df['tag-local-identifier']):\n",
    "    bear = df[df['tag-local-identifier'] == tag]\n",
    "\n",
    "    x = pd.Series(bear['utm-easting'])\n",
    "    y = pd.Series(bear['utm-northing'])\n",
    "    dates = pd.to_datetime(bear['timestamp'])\n",
    "\n",
    "    trace = go.Scatter3d(\n",
    "        x=x, y=y, z=dates,\n",
    "        marker=dict(\n",
    "            size=4,\n",
    "            color=\"#%06x\" % random.randint(0, 0xFFFFFF),\n",
    "            colorscale='Viridis',\n",
    "        ),\n",
    "        line=dict(\n",
    "            color = '#444ddd',\n",
    "            width=1\n",
    "        ),\n",
    "        name = tag\n",
    "    )\n",
    "\n",
    "    data.append(trace)\n",
    "    \n",
    "layout = dict(\n",
    "    width=800,\n",
    "    height=700,\n",
    "    autosize=False,\n",
    "    title='Bears movement Slovenia',\n",
    "    scene=dict(\n",
    "        xaxis=dict(\n",
    "            gridcolor='rgb(255, 255, 255)',\n",
    "            zerolinecolor='rgb(255, 255, 255)',\n",
    "            showbackground=True,\n",
    "            backgroundcolor='rgb(230, 230,230)'\n",
    "        ),\n",
    "        yaxis=dict(\n",
    "            gridcolor='rgb(255, 255, 255)',\n",
    "            zerolinecolor='rgb(255, 255, 255)',\n",
    "            showbackground=True,\n",
    "            backgroundcolor='rgb(230, 230,230)'\n",
    "        ),\n",
    "        zaxis=dict(\n",
    "            gridcolor='rgb(255, 255, 255)',\n",
    "            zerolinecolor='rgb(255, 255, 255)',\n",
    "            showbackground=True,\n",
    "            backgroundcolor='rgb(230, 230,230)'\n",
    "        ),\n",
    "        camera=dict(\n",
    "            up=dict(\n",
    "                x=0,\n",
    "                y=0,\n",
    "                z=1\n",
    "            ),\n",
    "            eye=dict(\n",
    "                x=-1.7428,\n",
    "                y=1.0707,\n",
    "                z=0.7100,\n",
    "            )\n",
    "        ),\n",
    "        aspectratio = dict( x=1, y=1, z=0.7 ),\n",
    "        aspectmode = 'manual'\n",
    "    ),\n",
    ")\n",
    "fig = dict(data=data, layout=layout)\n",
    "py.iplot(fig, filename='bears_slovenia_test', height=1200, validate=False)"
   ]
  },
  {
   "cell_type": "markdown",
   "metadata": {},
   "source": [
    "#### Examining spatial-temporal interaction of bears between each other\n",
    "\n",
    "By checking for nearness in space-time, we searched for potential interactions between bears. The code below can be modified to adjust the search radius in time and space. Using time slices of 24 hours (12 hours before and after a recorded position), and spatial radii of 100 m around each point, we gain an impression of the potential interactions that occurred. In many cases, a pair of bears consistently appears to interact, suggesting they have some sort of relationship, perhaps family members. For instance, Mishko and Ancka repeatedly appear within the same space-time window, as do Vera and Maja. In accordance with the temporal extent of each bear's points in the space-time cube, these interactions are limited across the temporal range of the study. Also, they tend to arise in the area with the highest concentration of points, an expected outcome given that where there is a higher concentration of bears we can expect a higher likelihood of bear interactions.\n"
   ]
  },
  {
   "cell_type": "code",
   "execution_count": 5,
   "metadata": {
    "collapsed": true
   },
   "outputs": [],
   "source": [
    "# create interval in which to search for nearness in time\n",
    "# can be modified by adjusting window\n",
    "def find_interval(x):\n",
    "    start = np.datetime64(x) + np.timedelta64(-12, 'h')\n",
    "    end = np.datetime64(x) + np.timedelta64(12, 'h')\n",
    "    return start, end\n",
    "# checks whether point is within time interval\n",
    "def check_interval(x, start, end):\n",
    "    x = np.datetime64(x)\n",
    "    if start < x < end:\n",
    "        return (start, end)\n",
    "    else:\n",
    "        return False"
   ]
  },
  {
   "cell_type": "code",
   "execution_count": null,
   "metadata": {
    "collapsed": true
   },
   "outputs": [],
   "source": [
    "# for each bear in data set\n",
    "matches = pd.DataFrame()\n",
    "all_geo = pd.DataFrame()\n",
    "df.drop('event-id', axis=1, inplace=True)\n",
    "df.drop_duplicates(inplace=True)\n",
    "for bear in set(df['tag-local-identifier']):\n",
    "    focal_bear = df[df['tag-local-identifier'] == bear]\n",
    "    print bear\n",
    "    # isolate points for single bear\n",
    "    focal_bear = df[df['tag-local-identifier'] == bear]\n",
    "    # from timestamps, find time interval\n",
    "    focal_bear['interval'] = focal_bear.timestamp.apply(find_interval)\n",
    "    #search all other data timestamps for presence in interval\n",
    "    other_bears = df[df['tag-local-identifier'] != bear] \n",
    "    # for interval in focal bear\n",
    "    for x in focal_bear.interval:\n",
    "        # check for matches in rest of dataframe\n",
    "        matches = pd.DataFrame()\n",
    "        for y in other_bears.timestamp:\n",
    "            # if match found in time\n",
    "            if x[0] < np.datetime64(y) < x[1]:\n",
    "                # create DF containing matching records\n",
    "                matches = matches.append(other_bears[other_bears.timestamp == y])\n",
    "                # save initial bear record\n",
    "                record = focal_bear[focal_bear.interval == x]\n",
    "                # create point from bear record\n",
    "                point = sg.Point(record['utm-easting'], record['utm-northing'])\n",
    "                # create buffer around point\n",
    "                polygon = point.buffer(100)\n",
    "                # search through matches for points within buffer polygon\n",
    "                record.interval[0] = list(record.interval.values[0])\n",
    "                record.drop('interval', axis=1, inplace=True)\n",
    "                for i in range(len(matches)):\n",
    "                    point_bear = sg.Point(matches['utm-easting'].values[i], matches['utm-northing'].values[i])\n",
    "                    # if match found\n",
    "                    if point_bear.within(polygon):\n",
    "                        # add matching point to DF\n",
    "                        dox = matches[(matches['utm-easting'] == matches['utm-easting'].values[i]) & (matches['utm-northing'] == matches['utm-northing'].values[i])]\n",
    "                        dox = pd.concat([dox, record], join=\"outer\")\n",
    "                        crs = \"+proj=utm +zone=33 +ellps=WGS84 +datum=WGS84 +units=m +no_defs\"\n",
    "                        geometry = [sg.Point(ab) for ab in zip(dox['utm-easting'], dox['utm-northing'])]\n",
    "                        geo_df = gp.GeoDataFrame(dox, crs=crs, geometry=geometry)\n",
    "                        geo_df.drop('visible', axis=1, inplace=True)\n",
    "                        all_geo = pd.concat([all_geo, geo_df], join=\"outer\")\n",
    "                        geo_df.to_file(bear + '_' + str(i) + '.shp')\n",
    "                    \n",
    "                    else:\n",
    "                        pass\n",
    "            else: \n",
    "                pass\n",
    "    try: \n",
    "        del record\n",
    "        del geo_df\n",
    "        del dox\n",
    "    except:\n",
    "        pass\n",
    "all_geo.to_file('interactions.shp')\n",
    "all_geo.plot()"
   ]
  },
  {
   "cell_type": "markdown",
   "metadata": {},
   "source": [
    "### E. Concluding remarks"
   ]
  }
 ],
 "metadata": {
  "anaconda-cloud": {},
  "kernelspec": {
   "display_name": "Python 2",
   "language": "python",
   "name": "python2"
  },
  "language_info": {
   "codemirror_mode": {
    "name": "ipython",
    "version": 2
   },
   "file_extension": ".py",
   "mimetype": "text/x-python",
   "name": "python",
   "nbconvert_exporter": "python",
   "pygments_lexer": "ipython2",
   "version": "2.7.10"
  }
 },
 "nbformat": 4,
 "nbformat_minor": 0
}
