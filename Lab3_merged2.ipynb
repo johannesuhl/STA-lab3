{
 "cells": [
  {
   "cell_type": "markdown",
   "metadata": {},
   "source": [
    "# Space-time Analytics Lab 3\n",
    "## Becky Davies, Gabi Murillo, Adam Mahood, Barry Price, Johannes Uhl\n",
    "## November 2016\n",
    "### Analysis of Brown Bear trajectories in Slovenia, 1993-1999\n",
    "\n",
    "#### Contents:\n",
    "A. Introduction\n",
    "\n",
    "- Maybe Barry can insert a paragraph here on bears in slovenia in general... B\n",
    "\n",
    "B. Visualisation of the data using 2D maps\n",
    "\n",
    "- Measurements per bear J\n",
    "- Measurements per year J\n",
    "\n",
    "C. Analysis of seasonal effects on movement speed\n",
    "\n",
    "- Bear speed map J\n",
    "- Gabi's results G\n",
    "\n",
    "D. Home range and interaction analysis\n",
    "\n",
    "- Kernel density maps for each bear, for each year J\n",
    "- Examining interaction using wildlifeDI package A\n",
    "- Examining interaction using space-time cubes B\n",
    "\n",
    "E. Concluding remarks\n",
    "- all?\n",
    "\n",
    "Data Source: movebank.org\n",
    "\n",
    "\n",
    "\n"
   ]
  },
  {
   "cell_type": "code",
   "execution_count": 2,
   "metadata": {
    "collapsed": false
   },
   "outputs": [
    {
     "name": "stdout",
     "output_type": "stream",
     "text": [
      "Populating the interactive namespace from numpy and matplotlib\n"
     ]
    }
   ],
   "source": [
    "#loading libraries:\n",
    "\n",
    "import pandas as pd\n",
    "import json\n",
    "from IPython.display import Javascript\n",
    "from IPython.display import HTML\n",
    "import numpy as np\n",
    "import seaborn as sns; sns.set(color_codes=True)\n",
    "import matplotlib as mpl\n",
    "import matplotlib.pyplot as plt\n",
    "import matplotlib.cm as cm\n",
    "from matplotlib import animation\n",
    "%config InlineBackend.figure_format = 'svg'\n",
    "from matplotlib.pylab import rcParams\n",
    "rcParams['figure.figsize'] = 16, 9\n",
    "%matplotlib inline\n",
    "%pylab inline\n",
    "\n",
    "import plotly.plotly as py\n",
    "import plotly.graph_objs as go\n",
    "py.sign_in('johannesuhl', '1xhtdlbk6o')"
   ]
  },
  {
   "cell_type": "code",
   "execution_count": 8,
   "metadata": {
    "collapsed": true
   },
   "outputs": [],
   "source": [
    "#read the data\n",
    "csvfile=r'./Data/Brown bear Slovenia 1993-1999UTM.csv'\n",
    "df = pd.read_csv(csvfile) \n",
    "#make sure that you adjust your code to the pandas dataframe object df, we only want to read the data once.\n"
   ]
  },
  {
   "cell_type": "markdown",
   "metadata": {},
   "source": [
    "### A. Introduction"
   ]
  },
  {
   "cell_type": "code",
   "execution_count": null,
   "metadata": {
    "collapsed": true
   },
   "outputs": [],
   "source": []
  },
  {
   "cell_type": "markdown",
   "metadata": {},
   "source": [
    "### B. Visualisation of the data using 2D maps"
   ]
  },
  {
   "cell_type": "code",
   "execution_count": null,
   "metadata": {
    "collapsed": true
   },
   "outputs": [],
   "source": []
  },
  {
   "cell_type": "markdown",
   "metadata": {},
   "source": [
    "### C. Analysis of seasonal effects on movement speed"
   ]
  },
  {
   "cell_type": "code",
   "execution_count": null,
   "metadata": {
    "collapsed": true
   },
   "outputs": [],
   "source": []
  },
  {
   "cell_type": "markdown",
   "metadata": {},
   "source": [
    "### D. Home range and interaction analysis\n",
    "\n",
    "The interaction analysis is done in R using wildlifeDI package.\n",
    "The notebook requires a separate R kernel and can be accessed here:\n",
    "\n",
    "https://github.com/johannesuhl/STA-lab3/blob/master/Wildlife%20Trajectories%20in%20R.ipynb\n",
    "\n"
   ]
  },
  {
   "cell_type": "code",
   "execution_count": null,
   "metadata": {
    "collapsed": true
   },
   "outputs": [],
   "source": []
  },
  {
   "cell_type": "markdown",
   "metadata": {},
   "source": [
    "### E. Concluding remarks"
   ]
  }
 ],
 "metadata": {
  "anaconda-cloud": {},
  "kernelspec": {
   "display_name": "Python [Root]",
   "language": "python",
   "name": "Python [Root]"
  },
  "language_info": {
   "codemirror_mode": {
    "name": "ipython",
    "version": 2
   },
   "file_extension": ".py",
   "mimetype": "text/x-python",
   "name": "python",
   "nbconvert_exporter": "python",
   "pygments_lexer": "ipython2",
   "version": "2.7.12"
  }
 },
 "nbformat": 4,
 "nbformat_minor": 0
}
